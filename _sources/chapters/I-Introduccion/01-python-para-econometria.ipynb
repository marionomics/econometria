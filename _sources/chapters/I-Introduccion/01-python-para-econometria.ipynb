{
 "cells": [
  {
   "cell_type": "markdown",
   "metadata": {},
   "source": [
    "# Python para Econometría\n",
    "Si no sabes con qué lenguaje comenzar a aprender econometría, tu mejor opción es Python.\n",
    "\n",
    "En las escuelas enseñan con Eviews o con Stata. R también es un genial para la estadística: es el que he usado por años. Pero si tuviera que empezar de cero hoy a aprender econometría lo haría con Python.\n",
    "\n",
    "La razón de esto es la inteligencia artificial.\n",
    "\n",
    "- Python es un lenguaje de programación general, no es sólo para estadística.\n",
    "- Esto quiere decir que puedes integrarlo con diferentes soluciones y hacer productos con tus datos.\n",
    "- Estamos en una nueva era donde la inteligencia artificial (IA) es la que se encarga de crear y modificar el código y tú eres el encargado de pensar.\n",
    "\n",
    "Hace un par de años programar en Python era una barrera gigante, hoy es trivial.\n",
    "\n",
    "Lo que importa es entender los modelos de la econometría, cómo funcionan y cómo usarlos. Esto requiere que nos adentremos a la filosofía sobre cómo entendemos causas y efecto sobre. Pero también necesitamos conocer bien las herramientas a nuestra disposición.\n",
    "\n",
    "Y nadie lo entendió mejor que una enfermera Rockstar del Siglo XIX.\n",
    "\n",
    "## Florence y la Máquina\n",
    "\n",
    "Florence Nightingale fundó la enfermería moderna, pero salvó aún más vidas gracias a su genialidad estadística.\n",
    "\n",
    "La conocían como la dama de la linterna. Se le veía por las noches rondando en ayuda de los soldados durante la guerra de Crimea ([Swenson, 1966](https://archive.org/details/medicalwomenvict00swen_0/page/n7/mode/1up)).  Se ofreció como voluntaria junto a un equipo de 38 enfermeras para atender a los heridos en combate.\n",
    "\n",
    "Ahí fue donde hizo la contribución más grande a la estadística, que la hizo famosa.\n",
    "![Florence_Nightingale](../../figures/florence.jpeg)\n",
    "\n",
    "No es sino hasta que se registran datos de forma meticulosa que los patrones comienzan a emerger.\n",
    "\n",
    "Cuando llegó con su equipo a la guerra, se dio cuenta de que los malos cuidados médicos cobraban más vidas que las balas del enemigo. Había pocas medicinas, se ponía poca atención a la higiene y las infecciones eran comunes. Nightingale comenzó a hacer registros cuidadosos de todo y lo comunicó al gobierno británico.\n",
    "\n",
    "Impulsó cambios importantes que **redujeron las muertes** de 42 a 2% en el hospital.\n",
    "\n",
    "Convenció al gobierno británico de estos cambios gracias a gráficas innovadoras como ésta:\n",
    "![rose_diagram](../../figures/rose_diagram.jpeg)\n",
    "El gráfico de arriba se llama diagrama de rosa. El área azul representa las muertes por enfermedades infecciosas prevenibles, el área roja son las muertes por heridas en batalla y el área negra son otras causas. El poder de este gráfico es que se vuelve evidente de inmediato lo importante que es la higiene para prevenir muertes en el hospital. \n",
    "\n",
    "En la época, hacer este tipo de gráficos requería muchas horas de trabajo. Hoy puedes hacerlo en minutos gracias a Python.\n",
    "\n",
    "## El primer paso para hacer econometría con python\n",
    "\n",
    "No necesitas instalar nada para empezar a hacer econometría.\n",
    "\n",
    "Python es un lenguaje de programación general que puedes instalar en tu computadora. Sólo necesitas [descargarlo](https://www.python.org/), instalarlo y descargar los módulos apropiados. Hacerlo de esta forma requiere un poco de experiencia y que sepas usar la terminal, entre otras cosas.\n",
    "\n",
    "Pero hay una forma más fácil.\n",
    "\n",
    "- Entra a Google Colab.\n",
    "- Si no tienes cuenta en Google, tiene que crearla.\n",
    "- Da click en Nueva Notebook y comienza a trabajar.\n",
    "- Para ejecutar un bloque de código, sólo necesitas picar el botón con el símbolo de play ▶️ o usa ctrl + Enter (cmnd + Enter en Mac)\n",
    "\n",
    "Los notebook de Google Colab son la mejor forma de hacer ciencia de datos con Python porque trabajar con datos requiere mucha prueba y error. Repetir pequeños bloques de código una y otra vez sin alterar el resto del programa. Si nunca has usado Python, las notebook te ayudarán a comenzar sin preocuparte por los detalles de instalación. Si eres un experto en Python te será evidente los dolores de cabeza que estás evitando al trabajar así.\n",
    "\n",
    "## Familiarízate con Python\n",
    "\n",
    "La mejor forma de aprender cualquier lenguaje de programación es jugar con él.\n",
    "\n",
    "Observa las siguientes operaciones. Ejecuta y modifica los ejemplos a tu gusto. Intenta predecir lo que vas a obtener de resultado antes de ejecutar.\n",
    "\n",
    "- Sumas y restas (`2 + 2`, `8 - 3`)\n",
    "- Multiplicaciones y divisiones (`7*2`, `9/3`)\n",
    "- Potencias y raíces cuadradas (`3**2`, `16**(1/2)`)\n",
    "- Concatenación de cadenas de texto (`\"Hola \" + \"mundo\"`)\n",
    "- Comparaciones (`5 > 3`, `\"hola\" == \"adiós\"`)\n",
    "\n",
    "Pero este libro no se trata de aprender a programar.\n",
    "\n",
    "Si quieres ser un maestro de la econometría, tienes que usar el código que hicieron otras personas.\n",
    "\n",
    "El código de los expertos.\n",
    "\n",
    "## Módulos de Python para hacer econometría\n",
    "\n",
    "Un módulo es un paquete con funciones que hizo alguien más para solucionar un problema.\n",
    "\n",
    "A diferencia de los programas estadísticos tradicionales como Stata o Eviews, Python requiere de paquetes especiales para hacer econometría. Cada paquete contiene funciones particulares para lo que deseas. La diferencia es que esos paquetes con funciones se descargan aparte y es necesario llamarlos cuando los quieres usar.\n",
    "\n",
    "Aquí hay algunos módulos de Python que son útiles para hacer econometría:\n",
    "\n",
    "- `Statsmodels`: Modelos estadísticos y herramientas para realizar análisis de datos.\n",
    "- `Pandas`: Estructuras de datos flexibles y eficientes para manipular y analizar datos. Útil para trabajar con datos en formato tabular.\n",
    "- `Numpy`: Biblioteca para el cálculo numérico en Python. Proporciona funciones y herramientas para trabajar con arreglos numéricos.\n",
    "\n",
    "En capítulos posteriores veremos ejemplos de `statsmodels` y `numpy`, porque son los módulos que se usan para hacer modelos estadísticos y manipulación avanzada de datos.\n",
    "\n",
    "Aquí aprenderemos a usar `pandas` para manejar datos de manera visual y tabular.\n",
    "\n",
    "## Un juego de lotería con python\n",
    "\n",
    "La Lotería es un juego tradicional mexicano parecido al juego de Bingo.\n",
    "\n",
    "En este juego, en lugar de números se sacan tarjetas con diferentes personajes u objetos como una campana, la muerte o un borracho.\n",
    "\n",
    "Al inicio del juego se reparten cartas con pictogramas distribuidos de manera aleatoria. El jugador debe marcar lo que aparece en su carta. Gana el jugador que marca su carta completa.\n",
    "![loteria](../../figures/loteria.png)\n",
    "\n",
    "Algunos conceptos importantes:\n",
    "\n",
    "- **Mazo**. Es el conjunto de todas las cartas individuales.\n",
    "- **Carta**. Cada carta tiene una imagen y su nombre. Por ejemplo: El valiente.\n",
    "- **Tabla**. Cada jugador tiene una tabla con 16 cartas aleatorias que debe de llenar conforme el gritón las menciona.\n",
    "- **El gritón.** Es la persona encargada de dar a conocer la siguiente carta a todos los jugadores.\n",
    "\n",
    "Para comenzar, invocamos los módulos."
   ]
  },
  {
   "cell_type": "code",
   "execution_count": 10,
   "metadata": {},
   "outputs": [],
   "source": [
    "import pandas as pd\n",
    "import random"
   ]
  },
  {
   "cell_type": "markdown",
   "metadata": {},
   "source": [
    "Con `pandas` ahora tienes el poder de crear y manipular bases de datos.\n",
    "\n",
    "Con `pandas` puedes cargar datos desde archivos `csv` o Excel, visualizarlo, quitar filas, cambiar columnas y hacer lo que sea con tus datos. Como nuestro proyecto es una lotería, vamos a necesitar números aleatorios, que son la especialidad del módulo `random`.\n",
    "\n",
    "Comencemos a incluir las cartas en una lista."
   ]
  },
  {
   "cell_type": "code",
   "execution_count": 11,
   "metadata": {},
   "outputs": [],
   "source": [
    "cartas = [\"La maceta\", \"El borracho\", \"La campana\", \"El catrin\", \"El violoncello\",\"La sandia\", \"La chalupa\", \"El gorrito\", \"El arpa\", \"El camaron\", \"El barril\", \"La dama\", \"La bota\", \"El pajaro\", \"El melon\", \"El cotorro\", \"La palma\", \"El mundo\", \"El apache\", \"El pescado\", \"La muerte\", \"El alacran\", \"El gallo\", \"La calavera\"]"
   ]
  },
  {
   "cell_type": "markdown",
   "metadata": {},
   "source": [
    "Los conocedores de la lotería se podrán dar cuenta de que me faltó poner algunas cartas.\n",
    "\n",
    "No es problema. Podemos incluír las cartas que nos faltan más adelante. Usemos la función `append()` para agregar la carte de \"El diablito\" a nuestro mazo de cartas. También podemos usar `extend()` para agregar más elementos al mazo desde otra lista."
   ]
  },
  {
   "cell_type": "code",
   "execution_count": 13,
   "metadata": {},
   "outputs": [
    {
     "name": "stdout",
     "output_type": "stream",
     "text": [
      "['La maceta', 'El borracho', 'La campana', 'El catrin', 'El violoncello', 'La sandia', 'La chalupa', 'El gorrito', 'El arpa', 'El camaron', 'El barril', 'La dama', 'La bota', 'El pajaro', 'El melon', 'El cotorro', 'La palma', 'El mundo', 'El apache', 'El pescado', 'La muerte', 'El alacran', 'El gallo', 'La calavera', 'El diablito', 'El valiente', 'La corona', 'El barril', 'El diablito', 'El valiente', 'La corona', 'El barril']\n"
     ]
    }
   ],
   "source": [
    "# Con append podemos agregar un elemento adicional que nos faltaba\n",
    "cartas.append(\"El diablito\")\n",
    "# Con extend podemos agregar los elementos de una lista a otra\n",
    "cartas.extend([\"El valiente\", \"La corona\", \"El barril\"])\n",
    "# Con print() mostramos \n",
    "print(cartas)"
   ]
  },
  {
   "cell_type": "markdown",
   "metadata": {},
   "source": [
    "### Con esta lista ya podemos repartir las tablas.\n",
    "\n",
    "Una tabla de lotería tiene 16 cartas: cuatro a lo ancho y cuatro a lo largo. Usa `pandas` para crear un DataFrame para la tabla de cada jugador. Este DataFrame tendrá 16 cartas únicas del mazo y una columna adicional para marcar las cartas."
   ]
  },
  {
   "cell_type": "code",
   "execution_count": 5,
   "metadata": {},
   "outputs": [],
   "source": [
    "deck_df = pd.DataFrame(cartas, columns=['Carta'])"
   ]
  },
  {
   "cell_type": "code",
   "execution_count": 6,
   "metadata": {},
   "outputs": [
    {
     "name": "stdout",
     "output_type": "stream",
     "text": [
      "Tabla del Jugador:\n",
      "             Carta  Marcada\n",
      "0         El mundo    False\n",
      "1         El gallo    False\n",
      "2        El catrin    False\n",
      "3        El barril    False\n",
      "4          El arpa    False\n",
      "5       El camaron    False\n",
      "6        El pajaro    False\n",
      "7       El alacran    False\n",
      "8       La chalupa    False\n",
      "9          La dama    False\n",
      "10         La bota    False\n",
      "11        La palma    False\n",
      "12  El violoncello    False\n",
      "13      El gorrito    False\n",
      "14      El cotorro    False\n",
      "15      El pescado    False\n"
     ]
    }
   ],
   "source": [
    "def crear_tabla(deck_df):\n",
    "    tabla = deck_df.sample(16).reset_index(drop=True)\n",
    "    tabla['Marcada'] = False  # Add a new column for marking the cards\n",
    "    return tabla\n",
    "\n",
    "# Example of creating a table for a player\n",
    "tabla_jugador = crear_tabla(deck_df)\n",
    "print(\"Tabla del Jugador:\")\n",
    "print(tabla_jugador)"
   ]
  },
  {
   "cell_type": "markdown",
   "metadata": {},
   "source": [
    "Esta función **`crear_tabla`** toma la lista de cartas y utiliza **`random.sample`** para seleccionar 16 cartas únicas de esa lista. **`random.sample`** es útil porque automáticamente se asegura de que no haya duplicados en la selección.\n",
    "\n",
    "### Cantar las cartas\n",
    "\n",
    "Ahora que tenemos las tablas, necesitamos una forma de \"cantar\" las cartas y que los jugadores revisen sus tablas. \n",
    "\n",
    "Podemos hacer esto con otra función muy sencilla. Hemos creado `canta_carta()`,  que selecciona una carta del mazo de forma aleatoria. \n",
    "\n",
    "Este código tiene un error. Normalmente cuando el “gritón” canta las cartas de lotería, ya no las reemplaza en el mazo y no volverán a salir. Para solucionar esto tendríamos que hacer que se elimine el elemento de la carta, pero dejaremos esto como ejercicio al lector."
   ]
  },
  {
   "cell_type": "code",
   "execution_count": 7,
   "metadata": {},
   "outputs": [
    {
     "name": "stdout",
     "output_type": "stream",
     "text": [
      "Carta Cantada: La muerte\n"
     ]
    }
   ],
   "source": [
    "def cantar_carta(deck_df):\n",
    "    return deck_df.sample().iloc[0]['Carta']\n",
    "\n",
    "# Example of drawing a card\n",
    "carta_cantada = cantar_carta(deck_df)\n",
    "print(\"Carta Cantada:\", carta_cantada)"
   ]
  },
  {
   "cell_type": "markdown",
   "metadata": {},
   "source": [
    "Esta función selecciona una carta al azar de la lista de cartas. Cada vez que se llama a la función, simula al \"gritón\" cantando una nueva carta.\n",
    "\n",
    "### **Marcando las Cartas**\n",
    "\n",
    "El Data Frame `tabla_jugador` tiene dos columnas. La primera tiene nuestras cartas y la segunda nos ayuda a marcar si el gritón ya dijo nuestra carta. Es nuestra columna de frijolitos.\n",
    "\n",
    "En la siguiente función primero se verifica si la carta cantada está en nuestra tabla. Lo hacemos con la palabra clave `if` , que cambia el elemento de la segunda columna a `True` si la tenemos."
   ]
  },
  {
   "cell_type": "code",
   "execution_count": 8,
   "metadata": {},
   "outputs": [
    {
     "name": "stdout",
     "output_type": "stream",
     "text": [
      "Esta carta no está en tu tabla.\n",
      "             Carta  Marcada\n",
      "0         El mundo    False\n",
      "1         El gallo    False\n",
      "2        El catrin    False\n",
      "3        El barril    False\n",
      "4          El arpa    False\n",
      "5       El camaron    False\n",
      "6        El pajaro    False\n",
      "7       El alacran    False\n",
      "8       La chalupa    False\n",
      "9          La dama    False\n",
      "10         La bota    False\n",
      "11        La palma    False\n",
      "12  El violoncello    False\n",
      "13      El gorrito    False\n",
      "14      El cotorro    False\n",
      "15      El pescado    False\n"
     ]
    }
   ],
   "source": [
    "def marcar_carta(tabla, carta_cantada):\n",
    "    if carta_cantada in tabla['Carta'].values:\n",
    "        tabla.loc[tabla['Carta'] == carta_cantada, 'Marcada'] = True\n",
    "        print(\"¡Carta marcada!\")\n",
    "    else:\n",
    "        print(\"Esta carta no está en tu tabla.\")\n",
    "\n",
    "# Example of marking a card\n",
    "marcar_carta(tabla_jugador, carta_cantada)\n",
    "print(tabla_jugador)"
   ]
  },
  {
   "cell_type": "markdown",
   "metadata": {},
   "source": [
    "De lo contrario, el sistema simplemente nos dirá que la carta no está en nuestra tabla y podemos volver a pedir al gritón que cante.\n",
    "\n",
    "### **Verificando el Ganador**\n",
    "\n",
    "La función `all()` verifica si todos los valores en la columna “Marcada” tiene valor verdadero."
   ]
  },
  {
   "cell_type": "code",
   "execution_count": 9,
   "metadata": {},
   "outputs": [
    {
     "name": "stdout",
     "output_type": "stream",
     "text": [
      "Sigue jugando.\n"
     ]
    }
   ],
   "source": [
    "def verificar_ganador(tabla):\n",
    "    return all(tabla['Marcada'])\n",
    "\n",
    "# Example of checking for a winner\n",
    "if verificar_ganador(tabla_jugador):\n",
    "    print(\"¡Felicidades, has ganado!\")\n",
    "else:\n",
    "    print(\"Sigue jugando.\")"
   ]
  },
  {
   "cell_type": "markdown",
   "metadata": {},
   "source": [
    "Cuando tu tabla tiene todas las cartas marcadas, haz ganado.\n",
    "\n",
    "### Preguntas frecuentes en las primeras sesiones de python\n",
    "\n",
    "Tengo ya bastante experiencia enseñando a programar por primera vez para reconocer los problemas más comunes al inicio. Regresa a esta lista si te encuentras en problemas, tal vez encuentres tu problema aquí.\n",
    "\n",
    "- **Me apareció error.** En los lenguajes de programación no hay errores genéricos. Siempre tienes que revisar con detalle\n",
    "- **No puedo cargar el módulo**. Asegúrate que estés utilizando el entorno correcto donde el módulo está instalado. Si estás usando Google Colab, los módulos más comunes como **`pandas`** y **`numpy`** ya están preinstalados. Si estás en tu propia máquina, quizás necesites instalar el módulo usando pip, por ejemplo, **`pip install pandas`**.\n",
    "- **Mi código no hace lo que espero.** Revisa cada línea cuidadosamente. Asegúrate de entender qué hace cada parte del código. A veces, un pequeño error como una letra mal escrita o una indentación incorrecta puede causar problemas.\n",
    "- **No entiendo el error que me muestra Python.** Los mensajes de error pueden ser confusos al principio. Lee el mensaje completo; a menudo, la última línea te da una pista sobre lo que está mal. Si no entiendes el mensaje, intenta buscarlo en internet. Es muy probable que alguien más haya tenido el mismo problema.\n",
    "- **El código se ejecuta, pero no pasa nada.** Verifica que estés llamando a las funciones correctamente y que estés pasando los argumentos correctos. También asegúrate de que cualquier cambio que esperes ver se esté mostrando o guardando adecuadamente.\n",
    "- **¿Cómo instalo un módulo de Python?** Generalmente, puedes instalar módulos de Python usando pip. Por ejemplo, para instalar **`matplotlib`**, usarías **`pip install matplotlib`** en tu terminal o línea de comandos.\n",
    "- **¿Cómo sé qué módulo usar para una tarea específica?** La experiencia te ayudará a conocer qué módulos son mejores para diferentes tareas. Mientras tanto, busca recomendaciones en línea o en libros de texto sobre Python. La comunidad de Python es muy activa y hay muchos recursos disponibles.\n",
    "- **¿Cómo puedo mejorar en Python?** La práctica es clave. Trabaja en pequeños proyectos, resuelve problemas y trata de leer y entender el código de otras personas. También, participar en comunidades en línea y foros puede ser muy útil.\n",
    "\n",
    "## Ya sabes usar Python, ahora aprendamos econometría\n",
    "\n",
    "Lo más importante es practicar.\n",
    "\n",
    "No hay libro que te de la suficiente experiencia antes de comenzar a construir tus propios modelos. Necesitas empezar hoy mismo a modelar, a obtener datos y a jugar con ellos. Es a prueba y error que tu mente te hará un experto en econometría.\n",
    "\n",
    "Es momento de comenzar con las matemáticas.\n",
    "\n",
    "<div style=\"height: 100vh\"><script src=\"https://cdn.jsdelivr.net/ghost/signup-form@~0.1/umd/signup-form.min.js\" data-label-1=\"metrics4business\" data-background-color=\"#154957\" data-text-color=\"#FFFFFF\" data-button-color=\"#154957\" data-button-text-color=\"#FFFFFF\" data-title=\"marionomics: Economía\" data-description=\"🍎Economía con Manzanitas🍏\" data-icon=\"https://www.marionomics.com/content/images/size/w192h192/size/w256h256/2022/08/Logo-Marionomics-3.png\" data-site=\"https://www.marionomics.com/\" data-locale=\"es\" async></script></div>"
   ]
  }
 ],
 "metadata": {
  "kernelspec": {
   "display_name": "base",
   "language": "python",
   "name": "python3"
  },
  "language_info": {
   "codemirror_mode": {
    "name": "ipython",
    "version": 3
   },
   "file_extension": ".py",
   "mimetype": "text/x-python",
   "name": "python",
   "nbconvert_exporter": "python",
   "pygments_lexer": "ipython3",
   "version": "3.8.5"
  }
 },
 "nbformat": 4,
 "nbformat_minor": 2
}
