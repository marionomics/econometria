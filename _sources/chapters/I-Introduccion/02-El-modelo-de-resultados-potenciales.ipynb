{
 "cells": [
  {
   "cell_type": "markdown",
   "metadata": {},
   "source": [
    "# El modelo de resultados potenciales\n",
    "\n",
    "Para entender la econometría necesitas comprender el multiverso.\n",
    "\n",
    "El multiverso se basa en la interpretación de Hughes Everett (1957) de la mecánica cuántica (Busch, *et al*., 2007). Pero la interpretación popular es que cada decisión que tomamos genera un universo nuevo.\n",
    "\n",
    "Hay un universo en el que aún estás con tu ex.\n",
    "\n",
    "Le vamos a llamar a ese universo un **contrafactual**, porque se opone a la realidad. Naturalmente, el hubiera no existe y no podemos obtener datos de los contrafactuales. Sólo podemos imaginarlo.\n",
    "\n",
    "## En un universo, fuiste a Harvard\n",
    "\n",
    "¿Habrías tenido mejor vida si hubieras atendido clases en Harvard?\n",
    "\n",
    "Medir la felicidad en la vida es muy difícil. Nos tendremos que conformar con tus ingresos. ¿Tendrías hoy mejores ingresos si hubieras ido a Harvard?\n",
    "\n",
    "No podemos comparar los ingresos de un egresado de Harvard con alguien que no fue. Los estudiantes de Harvard tienen (suponemos) más ingresos, mejores conexiones y un estilo de vida diferente a los que no asistieron. Decimos a esto que son **fundamentalmente** diferentes.\n",
    "\n",
    "## El error de novatos\n",
    "\n",
    "Si cometes este error estás *banneado* de por vida de mi clase.\n",
    "\n",
    "Supongamos que deseas saber el **efecto** que tiene entrar en una escuela más selectiva en los ingresos. Decides entonces que es buena idea evaluar la diferencia entre los ingresos de las personas que fueron a una escuela selectiva y los egresados de una no selectiva.\n",
    "\n",
    "$$\n",
    "E[Y_1]-E[Y_0]\n",
    "$$\n",
    "\n",
    "La $E$ denota la **esperanza** o valor esperado de lo que está entre paréntesis. Normalmente denotamos con $Y$ el **resultado** o la variable en la que esperamos ver un efecto. En este caso es el ingreso. \n",
    "\n",
    "El subíndice $1$ o $0$ nos indica el **grupo** al que pertenece la variable. Normalmente $1$ indica el **grupo de tratamiento** y $0$ el **grupo de control**.\n",
    "\n",
    "Tratamiento y control son parte del lenguaje en los estudios clínicos. Cuando quieres hacer un experimento para saber si una medicina funciona, divides a tus sujetos en dos grupos y a uno le aplicas la medicina y al otro no. Luego mides los resultados.\n",
    "\n",
    "Imaginemos que esta base de datos identifica a 180 alumnos, la mitad de ellos entró a una escuela selectiva y la otra mitad no lo hizo. ¿Cuál es el valor que representa la ecuación de arriba?"
   ]
  },
  {
   "cell_type": "code",
   "execution_count": 29,
   "metadata": {},
   "outputs": [
    {
     "data": {
      "text/html": [
       "<div>\n",
       "<style scoped>\n",
       "    .dataframe tbody tr th:only-of-type {\n",
       "        vertical-align: middle;\n",
       "    }\n",
       "\n",
       "    .dataframe tbody tr th {\n",
       "        vertical-align: top;\n",
       "    }\n",
       "\n",
       "    .dataframe thead th {\n",
       "        text-align: right;\n",
       "    }\n",
       "</style>\n",
       "<table border=\"1\" class=\"dataframe\">\n",
       "  <thead>\n",
       "    <tr style=\"text-align: right;\">\n",
       "      <th></th>\n",
       "      <th>id</th>\n",
       "      <th>habilidad</th>\n",
       "      <th>selectivas</th>\n",
       "      <th>ingresos</th>\n",
       "    </tr>\n",
       "  </thead>\n",
       "  <tbody>\n",
       "    <tr>\n",
       "      <th>0</th>\n",
       "      <td>0</td>\n",
       "      <td>0.496714</td>\n",
       "      <td>1</td>\n",
       "      <td>1519.595562</td>\n",
       "    </tr>\n",
       "    <tr>\n",
       "      <th>1</th>\n",
       "      <td>1</td>\n",
       "      <td>-0.138264</td>\n",
       "      <td>0</td>\n",
       "      <td>1394.600820</td>\n",
       "    </tr>\n",
       "    <tr>\n",
       "      <th>2</th>\n",
       "      <td>2</td>\n",
       "      <td>0.647689</td>\n",
       "      <td>0</td>\n",
       "      <td>1131.469293</td>\n",
       "    </tr>\n",
       "    <tr>\n",
       "      <th>3</th>\n",
       "      <td>3</td>\n",
       "      <td>1.523030</td>\n",
       "      <td>1</td>\n",
       "      <td>1743.236746</td>\n",
       "    </tr>\n",
       "    <tr>\n",
       "      <th>4</th>\n",
       "      <td>4</td>\n",
       "      <td>-0.234153</td>\n",
       "      <td>0</td>\n",
       "      <td>1134.701974</td>\n",
       "    </tr>\n",
       "  </tbody>\n",
       "</table>\n",
       "</div>"
      ],
      "text/plain": [
       "   id  habilidad  selectivas     ingresos\n",
       "0   0   0.496714           1  1519.595562\n",
       "1   1  -0.138264           0  1394.600820\n",
       "2   2   0.647689           0  1131.469293\n",
       "3   3   1.523030           1  1743.236746\n",
       "4   4  -0.234153           0  1134.701974"
      ]
     },
     "execution_count": 29,
     "metadata": {},
     "output_type": "execute_result"
    }
   ],
   "source": [
    "import pandas as pd\n",
    "import numpy as np\n",
    "import random\n",
    "\n",
    "# Creando un diccionario con 'id' como claves y range(179) como valores\n",
    "alumnos = {'id': list(range(180))}\n",
    "\n",
    "# Creando el DataFrame\n",
    "df = pd.DataFrame(alumnos)\n",
    "\n",
    "# La semilla ayuda a tener el mismo resultado\n",
    "random.seed(42)\n",
    "np.random.seed(42)\n",
    "\n",
    "# La habilidad es aleatoria. \n",
    "df['habilidad'] = [np.random.normal(0, 1) for _ in range(len(df))]\n",
    "ruido_habilidad = np.random.normal(0, 0.2, len(df))\n",
    "\n",
    "# Añadiendo la columna 'selectivas' con una elección aleatoria de 0 o 1 para cada fila\n",
    "df['selectivas'] = (df['habilidad'] + ruido_habilidad > 0.5).astype(int)\n",
    "\n",
    "\n",
    "# Añadiendo la columna 'ingresos' con el cálculo especificado\n",
    "df['ingresos'] = 1000 + df['selectivas'] * 250 + df['habilidad'] * 250 + np.random.normal(0, 280, len(df))\n",
    "\n",
    "# Mostrando las primeras filas del DataFrame\n",
    "df.head()\n"
   ]
  },
  {
   "cell_type": "markdown",
   "metadata": {},
   "source": [
    "El código de arriba le podrá dar una pista a los más avanzados del problema. Los ingresos en esta tabla dependen de asistir a una escuela selectiva. Veamos la diferencia de promedios."
   ]
  },
  {
   "cell_type": "code",
   "execution_count": 30,
   "metadata": {},
   "outputs": [
    {
     "data": {
      "text/plain": [
       "676.1391841200144"
      ]
     },
     "execution_count": 30,
     "metadata": {},
     "output_type": "execute_result"
    }
   ],
   "source": [
    "df[df['selectivas'] == 1]['ingresos'].mean() - df[df['selectivas'] == 0]['ingresos'].mean()"
   ]
  }
 ],
 "metadata": {
  "kernelspec": {
   "display_name": "base",
   "language": "python",
   "name": "python3"
  },
  "language_info": {
   "codemirror_mode": {
    "name": "ipython",
    "version": 3
   },
   "file_extension": ".py",
   "mimetype": "text/x-python",
   "name": "python",
   "nbconvert_exporter": "python",
   "pygments_lexer": "ipython3",
   "version": "3.8.5"
  }
 },
 "nbformat": 4,
 "nbformat_minor": 2
}
