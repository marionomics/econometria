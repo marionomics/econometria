{
 "cells": [
  {
   "cell_type": "markdown",
   "metadata": {},
   "source": [
    "# 50 Referencias de Econometría \n",
    "\n",
    "\n",
    "\n",
    "[Enlace a la base de datos en Notion](https://marionomics.notion.site/b7b39346e68d44f298f045c1a045eae7?v=edc6541f06cd4621a33049b93760e8ca&pvs=4)\n",
    "\n",
    "<iframe src=\"https://metrics4business.substack.com/embed\" width=\"480\" height=\"320\" style=\"border:1px solid #EEE; background:white;\" frameborder=\"0\" scrolling=\"no\"></iframe>"
   ]
  }
 ],
 "metadata": {
  "language_info": {
   "name": "python"
  }
 },
 "nbformat": 4,
 "nbformat_minor": 2
}
