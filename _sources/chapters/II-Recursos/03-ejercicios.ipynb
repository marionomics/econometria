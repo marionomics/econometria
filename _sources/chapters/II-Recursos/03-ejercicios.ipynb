{
 "cells": [
  {
   "cell_type": "markdown",
   "metadata": {},
   "source": [
    "# Ejercicios\n",
    "\n",
    "Esta sección incluye los ejercicios del libro."
   ]
  },
  {
   "cell_type": "markdown",
   "metadata": {},
   "source": [
    "## Ejercicio 1. La lotería para python"
   ]
  },
  {
   "cell_type": "code",
   "execution_count": 3,
   "metadata": {},
   "outputs": [
    {
     "name": "stdout",
     "output_type": "stream",
     "text": [
      "['La maceta', 'El borracho', 'La campana', 'El catrin', 'El violoncello', 'La sandia', 'La chalupa', 'El gorrito', 'El arpa', 'El camaron', 'El barril', 'La dama', 'La bota', 'El pajaro', 'El melon', 'El cotorro', 'La palma', 'El mundo', 'El apache', 'El pescado', 'La muerte', 'El alacran', 'El gallo', 'La calavera', 'El diablito', 'El valiente', 'La corona', 'El barril']\n",
      "Tabla del Jugador:\n",
      "             Carta  Marcada\n",
      "0   El violoncello    False\n",
      "1      El valiente    False\n",
      "2        El apache    False\n",
      "3        El barril    False\n",
      "4      La calavera    False\n",
      "5      El diablito    False\n",
      "6      El borracho    False\n",
      "7       El alacran    False\n",
      "8         El mundo    False\n",
      "9        La maceta    False\n",
      "10      El cotorro    False\n",
      "11       El barril    False\n",
      "12       El pajaro    False\n",
      "13         La dama    False\n",
      "14         La bota    False\n",
      "15         El arpa    False\n",
      "Carta Cantada: La chalupa\n",
      "Esta carta no está en tu tabla.\n",
      "             Carta  Marcada\n",
      "0   El violoncello    False\n",
      "1      El valiente    False\n",
      "2        El apache    False\n",
      "3        El barril    False\n",
      "4      La calavera    False\n",
      "5      El diablito    False\n",
      "6      El borracho    False\n",
      "7       El alacran    False\n",
      "8         El mundo    False\n",
      "9        La maceta    False\n",
      "10      El cotorro    False\n",
      "11       El barril    False\n",
      "12       El pajaro    False\n",
      "13         La dama    False\n",
      "14         La bota    False\n",
      "15         El arpa    False\n",
      "Sigue jugando.\n"
     ]
    }
   ],
   "source": [
    "import pandas as pd\n",
    "import random\n",
    "\n",
    "# Creación de la lista de cartas\n",
    "cartas = [\"La maceta\", \"El borracho\", \"La campana\", \"El catrin\", \"El violoncello\", \"La sandia\", \"La chalupa\", \"El gorrito\", \"El arpa\", \"El camaron\", \"El barril\", \"La dama\", \"La bota\", \"El pajaro\", \"El melon\", \"El cotorro\", \"La palma\", \"El mundo\", \"El apache\", \"El pescado\", \"La muerte\", \"El alacran\", \"El gallo\", \"La calavera\"]\n",
    "cartas.append(\"El diablito\")\n",
    "cartas.extend([\"El valiente\", \"La corona\", \"El barril\"])\n",
    "\n",
    "# Mostrar las cartas\n",
    "print(cartas)\n",
    "\n",
    "# Crear un DataFrame con las cartas\n",
    "deck_df = pd.DataFrame(cartas, columns=['Carta'])\n",
    "\n",
    "# Función para crear una tabla de jugador\n",
    "def crear_tabla(deck_df):\n",
    "    tabla = deck_df.sample(16).reset_index(drop=True)\n",
    "    tabla['Marcada'] = False\n",
    "    return tabla\n",
    "\n",
    "# Crear una tabla para un jugador y mostrarla\n",
    "tabla_jugador = crear_tabla(deck_df)\n",
    "print(\"Tabla del Jugador:\")\n",
    "print(tabla_jugador)\n",
    "\n",
    "# Función para \"cantar\" una carta\n",
    "def cantar_carta(deck_df):\n",
    "    return deck_df.sample().iloc[0]['Carta']\n",
    "\n",
    "# Cantar una carta y mostrarla\n",
    "carta_cantada = cantar_carta(deck_df)\n",
    "print(\"Carta Cantada:\", carta_cantada)\n",
    "\n",
    "# Función para marcar una carta en la tabla\n",
    "def marcar_carta(tabla, carta_cantada):\n",
    "    if carta_cantada in tabla['Carta'].values:\n",
    "        tabla.loc[tabla['Carta'] == carta_cantada, 'Marcada'] = True\n",
    "        print(\"¡Carta marcada!\")\n",
    "    else:\n",
    "        print(\"Esta carta no está en tu tabla.\")\n",
    "\n",
    "# Marcar una carta y mostrar la tabla actualizada\n",
    "marcar_carta(tabla_jugador, carta_cantada)\n",
    "print(tabla_jugador)\n",
    "\n",
    "# Función para verificar si hay un ganador\n",
    "def verificar_ganador(tabla):\n",
    "    return all(tabla['Marcada'])\n",
    "\n",
    "# Verificar si hay un ganador\n",
    "if verificar_ganador(tabla_jugador):\n",
    "    print(\"¡Felicidades, has ganado!\")\n",
    "else:\n",
    "    print(\"Sigue jugando.\")\n"
   ]
  },
  {
   "cell_type": "markdown",
   "metadata": {},
   "source": [
    "## Ejercicio 2. Sesgo de Selección."
   ]
  },
  {
   "cell_type": "code",
   "execution_count": 4,
   "metadata": {},
   "outputs": [
    {
     "data": {
      "text/plain": [
       "(-5.993753901826858, 3.4170361050226936e-08)"
      ]
     },
     "execution_count": 4,
     "metadata": {},
     "output_type": "execute_result"
    }
   ],
   "source": [
    "import pandas as pd\n",
    "import numpy as np\n",
    "from sklearn.linear_model import LogisticRegression\n",
    "from sklearn.metrics import accuracy_score\n",
    "from scipy.stats import ttest_ind\n",
    "\n",
    "# Crear un DataFrame inventado de ejemplo\n",
    "np.random.seed(0)\n",
    "n = 100  # número de observaciones\n",
    "df = pd.DataFrame({\n",
    "    'edad': np.random.randint(18, 22, size=n),\n",
    "    'sexo': np.random.choice(['M', 'F'], size=n),\n",
    "    'promedio_pre': np.random.uniform(6, 10, size=n),  # promedio antes del evento\n",
    "    'tratamiento': np.random.choice([0, 1], size=n),  # 1 si asistieron a la fiesta, 0 si no\n",
    "})\n",
    "\n",
    "# Añadir una variable de resultado influenciada por el tratamiento y otras variables\n",
    "df['resultado'] = df['promedio_pre'] + np.where(df['tratamiento'] == 1, -0.5, 0.5) + np.random.normal(0, 0.25, size=n)\n",
    "\n",
    "# Propensity score matching\n",
    "X = pd.get_dummies(df.drop(['tratamiento', 'resultado'], axis=1))  # Variables confusoras\n",
    "y = df['tratamiento']  # Variable de tratamiento\n",
    "\n",
    "# Ajustar un modelo logístico\n",
    "modelo_logistico = LogisticRegression()\n",
    "modelo_logistico.fit(X, y)\n",
    "propensity_scores = modelo_logistico.predict_proba(X)[:, 1]\n",
    "\n",
    "# Añadir propensity score al DataFrame\n",
    "df['propensity_score'] = propensity_scores\n",
    "\n",
    "# Separar en grupos de tratamiento y control\n",
    "tratados = df[df['tratamiento'] == 1]\n",
    "control = df[df['tratamiento'] == 0]\n",
    "emparejados = pd.concat([tratados, control]).sort_values('propensity_score')\n",
    "\n",
    "# Análisis de resultados\n",
    "tratados_resultados = emparejados[emparejados['tratamiento'] == 1]['resultado']\n",
    "control_resultados = emparejados[emparejados['tratamiento'] == 0]['resultado']\n",
    "\n",
    "# Test t para comparar las medias\n",
    "t_stat, p_valor = ttest_ind(tratados_resultados, control_resultados)\n",
    "\n",
    "t_stat, p_valor\n",
    "# (-5.993753901826858, 3.4170361050226936e-08)"
   ]
  },
  {
   "cell_type": "code",
   "execution_count": 5,
   "metadata": {},
   "outputs": [
    {
     "data": {
      "image/png": "[encoded data removed]",
      "text/plain": [
       "<Figure size 1008x432 with 2 Axes>"
      ]
     },
     "metadata": {},
     "output_type": "display_data"
    }
   ],
   "source": [
    "import matplotlib.pyplot as plt\n",
    "import seaborn as sns\n",
    "\n",
    "# Configuración de estilo para los gráficos\n",
    "sns.set(style=\"whitegrid\")\n",
    "\n",
    "# Creando gráficos\n",
    "fig, ax = plt.subplots(1, 2, figsize=(14, 6))\n",
    "\n",
    "# Boxplot antes del emparejamiento\n",
    "sns.boxplot(x='tratamiento', y='resultado', data=df, ax=ax[0])\n",
    "ax[0].set_title('Distribución de Calificaciones Antes del Emparejamiento')\n",
    "ax[0].set_xlabel('Tratamiento (Asistencia a la Fiesta)')\n",
    "ax[0].set_ylabel('Calificaciones')\n",
    "\n",
    "# Boxplot después del emparejamiento\n",
    "sns.boxplot(x='tratamiento', y='resultado', data=emparejados, ax=ax[1])\n",
    "ax[1].set_title('Distribución de Calificaciones Después del Emparejamiento')\n",
    "ax[1].set_xlabel('Tratamiento (Asistencia a la Fiesta)')\n",
    "ax[1].set_ylabel('Calificaciones')\n",
    "\n",
    "plt.tight_layout()\n",
    "plt.show()"
   ]
  },
  {
   "cell_type": "markdown",
   "metadata": {},
   "source": [
    "## Ejercicio 3. Sesgo de Selección (2)\n",
    "\n",
    "Escenario del Ejercicio: Estudio de Salud en una Empresa\n",
    "Imagina que eres un científico de datos en una empresa y se te ha pedido realizar un estudio sobre la salud de los empleados. La empresa tiene empleados que trabajan en oficina y empleados que trabajan en campo. Quieres comparar su nivel de actividad física.\n",
    "\n",
    "Tarea 1: Crear una Base de Datos de Empleados\n",
    "Primero, vamos a simular una base de datos de empleados. Cada empleado tiene un ID, su tipo de trabajo (oficina o campo) y su nivel de actividad física (medido en pasos por día)."
   ]
  },
  {
   "cell_type": "code",
   "execution_count": 13,
   "metadata": {},
   "outputs": [],
   "source": [
    "import pandas as pd\n",
    "import random\n",
    "\n",
    "# Crear una base de datos simulada\n",
    "empleados = pd.DataFrame({\n",
    "    'ID': range(1, 101),\n",
    "    'Tipo_Trabajo': ['Oficina' if random.random() < 0.5 else 'Campo' for _ in range(100)],\n",
    "    'Actividad_Fisica': [random.randint(3000, 7000) if random.random() < 0.5 else random.randint(7000, 12000) for _ in range(100)]\n",
    "})"
   ]
  },
  {
   "cell_type": "markdown",
   "metadata": {},
   "source": [
    "Tarea 2: Seleccionar Participantes para el Estudio\n",
    "Ahora, seleccionaremos un grupo de empleados para el estudio. Aquí es donde introduciremos el sesgo de selección.\n",
    "\n",
    "Selección Aleatoria: Seleccionar 30 empleados al azar.\n",
    "Selección Sesgada: Seleccionar 30 empleados que trabajan en oficina."
   ]
  },
  {
   "cell_type": "code",
   "execution_count": 14,
   "metadata": {},
   "outputs": [],
   "source": [
    "# Selección aleatoria\n",
    "participantes_aleatorios = empleados.sample(30)\n",
    "\n",
    "# Selección sesgada\n",
    "participantes_sesgados = empleados[empleados['Tipo_Trabajo'] == 'Oficina'].sample(30)\n"
   ]
  },
  {
   "cell_type": "markdown",
   "metadata": {},
   "source": [
    "Tarea 3: Análisis y Comparación\n",
    "Finalmente, compararemos los resultados de los dos grupos para ver cómo el método de selección afecta las conclusiones del estudio."
   ]
  },
  {
   "cell_type": "code",
   "execution_count": 15,
   "metadata": {},
   "outputs": [
    {
     "name": "stdout",
     "output_type": "stream",
     "text": [
      "Promedio de Actividad Física (Selección Aleatoria): 6751.966666666666\n",
      "Promedio de Actividad Física (Selección Sesgada): 7350.7\n"
     ]
    }
   ],
   "source": [
    "# Calcular el promedio de actividad física para cada grupo\n",
    "promedio_aleatorio = participantes_aleatorios['Actividad_Fisica'].mean()\n",
    "promedio_sesgado = participantes_sesgados['Actividad_Fisica'].mean()\n",
    "\n",
    "print(f\"Promedio de Actividad Física (Selección Aleatoria): {promedio_aleatorio}\")\n",
    "print(f\"Promedio de Actividad Física (Selección Sesgada): {promedio_sesgado}\")"
   ]
  },
  {
   "cell_type": "markdown",
   "metadata": {},
   "source": [
    "Discusión\n",
    "Puedes discutir con los estudiantes cómo la selección sesgada (solo empleados de oficina) podría llevar a conclusiones erróneas sobre la actividad física de todos los empleados de la empresa. Este ejercicio ayuda a entender la importancia de una selección adecuada de la muestra en estudios y encuestas para evitar sesgos."
   ]
  },
  {
   "cell_type": "markdown",
   "metadata": {},
   "source": [
    "## Ejercicio 4. Campaña de Marketing en una Empresa\n",
    "Imagina que eres un analista de datos en una empresa que recientemente ha lanzado una campaña de marketing para aumentar las ventas. La empresa quiere saber si la campaña ha sido efectiva.\n",
    "\n",
    "Tarea 1: Crear una Base de Datos Simulada\n",
    "Primero, vamos a simular una base de datos de ventas semanales antes y después de la campaña de marketing. Además, incluiremos un factor externo que también podría afectar las ventas (por ejemplo, una festividad importante)."
   ]
  },
  {
   "cell_type": "code",
   "execution_count": 16,
   "metadata": {},
   "outputs": [],
   "source": [
    "import pandas as pd\n",
    "import numpy as np\n",
    "\n",
    "# Semanas antes, durante y después de la campaña\n",
    "semanas = np.arange(1, 31)  # Ajustado a 30 para coincidir con la longitud total de las ventas\n",
    "\n",
    "# Ventas simuladas (en miles)\n",
    "np.random.seed(0)\n",
    "ventas_antes = np.random.normal(loc=50, scale=10, size=10)\n",
    "ventas_durante = ventas_antes * np.random.uniform(0.95, 1.05, size=10)  # Pequeña variación\n",
    "ventas_despues = ventas_antes * np.random.uniform(0.95, 1.05, size=10)  # Pequeña variación\n",
    "\n",
    "# Simular una festividad que aumenta las ventas\n",
    "ventas_durante[5:8] += 20\n",
    "\n",
    "# Crear DataFrame\n",
    "ventas = pd.DataFrame({\n",
    "    'Semana': semanas,\n",
    "    'Ventas': np.concatenate([ventas_antes, ventas_durante, ventas_despues]),\n",
    "    'Periodo': ['Antes'] * 10 + ['Durante'] * 10 + ['Después'] * 10\n",
    "})\n",
    "\n"
   ]
  },
  {
   "cell_type": "markdown",
   "metadata": {},
   "source": [
    "Tarea 2: Análisis de las Ventas\n",
    "Ahora, analizaremos las ventas antes, durante y después de la campaña para ver si hay un cambio significativo."
   ]
  },
  {
   "cell_type": "code",
   "execution_count": 2,
   "metadata": {},
   "outputs": [
    {
     "ename": "NameError",
     "evalue": "name 'ventas' is not defined",
     "output_type": "error",
     "traceback": [
      "\u001b[0;31m---------------------------------------------------------------------------\u001b[0m",
      "\u001b[0;31mNameError\u001b[0m                                 Traceback (most recent call last)",
      "\u001b[0;32m<ipython-input-2-f57d57854d12>\u001b[0m in \u001b[0;36m<module>\u001b[0;34m\u001b[0m\n\u001b[1;32m      4\u001b[0m \u001b[0mplt\u001b[0m\u001b[0;34m.\u001b[0m\u001b[0mfigure\u001b[0m\u001b[0;34m(\u001b[0m\u001b[0mfigsize\u001b[0m\u001b[0;34m=\u001b[0m\u001b[0;34m(\u001b[0m\u001b[0;36m10\u001b[0m\u001b[0;34m,\u001b[0m \u001b[0;36m6\u001b[0m\u001b[0;34m)\u001b[0m\u001b[0;34m)\u001b[0m\u001b[0;34m\u001b[0m\u001b[0;34m\u001b[0m\u001b[0m\n\u001b[1;32m      5\u001b[0m \u001b[0;32mfor\u001b[0m \u001b[0mperiodo\u001b[0m\u001b[0;34m,\u001b[0m \u001b[0mcolor\u001b[0m \u001b[0;32min\u001b[0m \u001b[0mzip\u001b[0m\u001b[0;34m(\u001b[0m\u001b[0;34m[\u001b[0m\u001b[0;34m'Antes'\u001b[0m\u001b[0;34m,\u001b[0m \u001b[0;34m'Durante'\u001b[0m\u001b[0;34m,\u001b[0m \u001b[0;34m'Después'\u001b[0m\u001b[0;34m]\u001b[0m\u001b[0;34m,\u001b[0m \u001b[0;34m[\u001b[0m\u001b[0;34m'blue'\u001b[0m\u001b[0;34m,\u001b[0m \u001b[0;34m'green'\u001b[0m\u001b[0;34m,\u001b[0m \u001b[0;34m'red'\u001b[0m\u001b[0;34m]\u001b[0m\u001b[0;34m)\u001b[0m\u001b[0;34m:\u001b[0m\u001b[0;34m\u001b[0m\u001b[0;34m\u001b[0m\u001b[0m\n\u001b[0;32m----> 6\u001b[0;31m     \u001b[0msubset\u001b[0m \u001b[0;34m=\u001b[0m \u001b[0mventas\u001b[0m\u001b[0;34m[\u001b[0m\u001b[0mventas\u001b[0m\u001b[0;34m[\u001b[0m\u001b[0;34m'Periodo'\u001b[0m\u001b[0;34m]\u001b[0m \u001b[0;34m==\u001b[0m \u001b[0mperiodo\u001b[0m\u001b[0;34m]\u001b[0m\u001b[0;34m\u001b[0m\u001b[0;34m\u001b[0m\u001b[0m\n\u001b[0m\u001b[1;32m      7\u001b[0m     \u001b[0mplt\u001b[0m\u001b[0;34m.\u001b[0m\u001b[0mscatter\u001b[0m\u001b[0;34m(\u001b[0m\u001b[0msubset\u001b[0m\u001b[0;34m[\u001b[0m\u001b[0;34m'Semana'\u001b[0m\u001b[0;34m]\u001b[0m\u001b[0;34m,\u001b[0m \u001b[0msubset\u001b[0m\u001b[0;34m[\u001b[0m\u001b[0;34m'Ventas'\u001b[0m\u001b[0;34m]\u001b[0m\u001b[0;34m,\u001b[0m \u001b[0mcolor\u001b[0m\u001b[0;34m=\u001b[0m\u001b[0mcolor\u001b[0m\u001b[0;34m,\u001b[0m \u001b[0mlabel\u001b[0m\u001b[0;34m=\u001b[0m\u001b[0mperiodo\u001b[0m\u001b[0;34m)\u001b[0m\u001b[0;34m\u001b[0m\u001b[0;34m\u001b[0m\u001b[0m\n\u001b[1;32m      8\u001b[0m \u001b[0;34m\u001b[0m\u001b[0m\n",
      "\u001b[0;31mNameError\u001b[0m: name 'ventas' is not defined"
     ]
    },
    {
     "data": {
      "text/plain": [
       "<Figure size 720x432 with 0 Axes>"
      ]
     },
     "metadata": {},
     "output_type": "display_data"
    }
   ],
   "source": [
    "import matplotlib.pyplot as plt\n",
    "\n",
    "# Gráfico de las ventas\n",
    "plt.figure(figsize=(10, 6))\n",
    "for periodo, color in zip(['Antes', 'Durante', 'Después'], ['blue', 'green', 'red']):\n",
    "    subset = ventas[ventas['Periodo'] == periodo]\n",
    "    plt.scatter(subset['Semana'], subset['Ventas'], color=color, label=periodo)\n",
    "\n",
    "plt.title('Ventas Semanales Durante Diferentes Periodos')\n",
    "plt.xlabel('Semana')\n",
    "plt.ylabel('Ventas (en miles)')\n",
    "plt.legend()\n",
    "plt.show()\n"
   ]
  },
  {
   "cell_type": "markdown",
   "metadata": {},
   "source": [
    "Tarea 3: Interpretación\n",
    "La interpretación de los datos podría mostrar que no hay un cambio significativo en las ventas durante y después de la campaña en comparación con el periodo anterior. Sin embargo, hay un pico durante la festividad, lo que podría llevar a la conclusión errónea de que la campaña no tuvo efecto.\n",
    "\n",
    "Discusión sobre Endogeneidad\n",
    "Este es un ejemplo clásico de endogeneidad, donde un factor externo (la festividad) está afectando tanto a la variable independiente (la campaña de marketing) como a la variable dependiente (las ventas). La presencia de este factor confunde la relación causal entre la campaña y las ventas.\n",
    "\n",
    "Podrías discutir con los estudiantes cómo, en ausencia de la festividad, quizás las ventas habrían sido más bajas durante el periodo de la campaña, lo que indicaría que la campaña efectivamente tuvo un efecto positivo. Este es el concepto del contrafactual en la inferencia causal: ¿qué habría pasado si no se hubiera llevado a cabo la campaña?"
   ]
  },
  {
   "cell_type": "markdown",
   "metadata": {},
   "source": [
    "## Ejercicio 5. Impacto de la Formación en el Rendimiento de los Empleados\n",
    "Imagina que eres un economista en una empresa y quieres evaluar el impacto de un programa de formación en el rendimiento de los empleados. La hipótesis es que la formación mejora el rendimiento.\n",
    "\n",
    "Tarea 1: Simular Datos de Empleados\n",
    "Primero, vamos a simular una base de datos de empleados con sus horas de formación y su rendimiento (puntuación)."
   ]
  },
  {
   "cell_type": "code",
   "execution_count": 18,
   "metadata": {},
   "outputs": [],
   "source": [
    "import numpy as np\n",
    "import pandas as pd\n",
    "import statsmodels.api as sm\n",
    "import matplotlib.pyplot as plt\n",
    "\n",
    "# Configurar la semilla aleatoria para reproducibilidad\n",
    "np.random.seed(0)\n",
    "\n",
    "# Número de empleados\n",
    "n_empleados = 100\n",
    "\n",
    "# Horas de formación (simuladas)\n",
    "horas_formacion = np.random.normal(20, 5, n_empleados)\n",
    "\n",
    "# Rendimiento (puntuación), influenciado por las horas de formación y otros factores\n",
    "rendimiento = 10 + 0.5 * horas_formacion + np.random.normal(0, 5, n_empleados)\n",
    "\n",
    "# Crear DataFrame\n",
    "datos_empleados = pd.DataFrame({\n",
    "    'Horas_Formacion': horas_formacion,\n",
    "    'Rendimiento': rendimiento\n",
    "})"
   ]
  },
  {
   "cell_type": "markdown",
   "metadata": {},
   "source": [
    "Tarea 2: Análisis de Regresión Lineal con Statsmodels\n",
    "Ahora, realizamos una regresión lineal utilizando statsmodels."
   ]
  },
  {
   "cell_type": "code",
   "execution_count": 19,
   "metadata": {},
   "outputs": [
    {
     "name": "stdout",
     "output_type": "stream",
     "text": [
      "                            OLS Regression Results                            \n",
      "==============================================================================\n",
      "Dep. Variable:            Rendimiento   R-squared:                       0.266\n",
      "Model:                            OLS   Adj. R-squared:                  0.259\n",
      "Method:                 Least Squares   F-statistic:                     35.58\n",
      "Date:                Sat, 25 Nov 2023   Prob (F-statistic):           3.89e-08\n",
      "Time:                        22:12:47   Log-Likelihood:                -305.62\n",
      "No. Observations:                 100   AIC:                             615.2\n",
      "Df Residuals:                      98   BIC:                             620.4\n",
      "Df Model:                           1                                         \n",
      "Covariance Type:            nonrobust                                         \n",
      "===================================================================================\n",
      "                      coef    std err          t      P>|t|      [0.025      0.975]\n",
      "-----------------------------------------------------------------------------------\n",
      "const               8.0818      2.155      3.750      0.000       3.805      12.359\n",
      "Horas_Formacion     0.6147      0.103      5.965      0.000       0.410       0.819\n",
      "==============================================================================\n",
      "Omnibus:                        5.184   Durbin-Watson:                   1.995\n",
      "Prob(Omnibus):                  0.075   Jarque-Bera (JB):                3.000\n",
      "Skew:                           0.210   Prob(JB):                        0.223\n",
      "Kurtosis:                       2.262   Cond. No.                         87.0\n",
      "==============================================================================\n",
      "\n",
      "Notes:\n",
      "[1] Standard Errors assume that the covariance matrix of the errors is correctly specified.\n"
     ]
    },
    {
     "data": {
      "image/png": "[encoded data removed]",
      "text/plain": [
       "<Figure size 432x288 with 1 Axes>"
      ]
     },
     "metadata": {},
     "output_type": "display_data"
    }
   ],
   "source": [
    "# Añadir una constante al modelo (intercepto)\n",
    "X = sm.add_constant(datos_empleados['Horas_Formacion'])\n",
    "y = datos_empleados['Rendimiento']\n",
    "\n",
    "# Crear y ajustar el modelo de regresión lineal\n",
    "modelo = sm.OLS(y, X).fit()\n",
    "\n",
    "# Mostrar el resumen del modelo\n",
    "print(modelo.summary())\n",
    "\n",
    "# Realizar predicciones\n",
    "predicciones = modelo.predict(X)\n",
    "\n",
    "# Graficar los resultados\n",
    "plt.scatter(datos_empleados['Horas_Formacion'], datos_empleados['Rendimiento'], color='blue', label='Datos Reales')\n",
    "plt.plot(datos_empleados['Horas_Formacion'], predicciones, color='red', label='Ajuste Lineal')\n",
    "plt.title('Relación entre Horas de Formación y Rendimiento')\n",
    "plt.xlabel('Horas de Formación')\n",
    "plt.ylabel('Rendimiento')\n",
    "plt.legend()\n",
    "plt.show()\n"
   ]
  },
  {
   "cell_type": "markdown",
   "metadata": {},
   "source": [
    "Tarea 3: Interpretación y Discusión\n",
    "El resumen del modelo proporcionado por statsmodels incluye una gran cantidad de información estadística, incluyendo el coeficiente para las horas de formación (la pendiente de la regresión), el intercepto, el valor p, el R-cuadrado, entre otros. Estos resultados nos ayudan a interpretar la relación entre las horas de formación y el rendimiento de los empleados.\n",
    "\n",
    "Discusión sobre Álgebra Lineal en Econometría\n",
    "Este ejercicio, utilizando statsmodels, demuestra cómo el álgebra lineal es esencial en econometría para estimar los parámetros de los modelos lineales. La regresión lineal, en su núcleo, resuelve un sistema de ecuaciones lineales para encontrar los coeficientes que minimizan el error cuadrático. statsmodels facilita este proceso y proporciona herramientas adicionales para la interpretación estadística.\n",
    "\n",
    "<iframe src=\"https://metrics4business.substack.com/embed\" width=\"480\" height=\"320\" style=\"border:1px solid #EEE; background:white;\" frameborder=\"0\" scrolling=\"no\"></iframe>"
   ]
  }
 ],
 "metadata": {
  "kernelspec": {
   "display_name": "base",
   "language": "python",
   "name": "python3"
  },
  "language_info": {
   "codemirror_mode": {
    "name": "ipython",
    "version": 3
   },
   "file_extension": ".py",
   "mimetype": "text/x-python",
   "name": "python",
   "nbconvert_exporter": "python",
   "pygments_lexer": "ipython3",
   "version": "3.8.5"
  }
 },
 "nbformat": 4,
 "nbformat_minor": 2
}
